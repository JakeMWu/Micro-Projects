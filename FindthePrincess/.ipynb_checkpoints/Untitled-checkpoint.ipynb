{
 "cells": [
  {
   "cell_type": "code",
   "execution_count": 2,
   "id": "3667d4a1-b94f-4e56-9e23-e1e2d65cf557",
   "metadata": {},
   "outputs": [],
   "source": [
    "class Node():\n",
    "    def __init__(self, state, parent, action):\n",
    "        self.state = state\n",
    "        self.parent = parent\n",
    "        self.action = action\n",
    "        \n",
    "class StackFrontier():\n",
    "    def __init__(self):\n",
    "        self.frontier = []\n",
    "        \n",
    "    def add(self, node):\n",
    "        self.frontier.append(node)\n",
    "    \n",
    "    def contains_state(self, state):\n",
    "        # checks if frontier contains a particular state \n",
    "        return any(node.state == state for node in self.frontier)\n",
    "    \n",
    "    def empty(self):\n",
    "        # checks if frontier is empty\n",
    "        return len(self.frontier) == 0 \n",
    "    \n",
    "    def remove(self):\n",
    "        # last-in first-out implementation means we remove the last item added to the list if \n",
    "        # list is non-empty\n",
    "        if self.empty():\n",
    "            raise Exception(\"empty frontier\")\n",
    "        else:\n",
    "            node = self.frontier[-1]\n",
    "            self.frontier = self.frontier[:-1]\n",
    "            return node\n",
    "\n",
    "# We will look at a queue-frontier for breadth search and it will inherit from the stack frontier\n",
    "# So it will share all of stack frontier's methods except for our removal process \n",
    "class QueueFrontier(StackFrontier):\n",
    "    def remove(self):\n",
    "        if self.empty():\n",
    "            raise Exception(\"empty frontier\")\n",
    "        else: \n",
    "            node = self.frontier[0]\n",
    "            self.frontier = self.frontier[1:] # re-define the frontier by slicing it such that the first element is excluded\n",
    "            return node"
   ]
  },
  {
   "cell_type": "code",
   "execution_count": null,
   "id": "23d5da54-974a-4729-a1f0-38c0bb63dce4",
   "metadata": {},
   "outputs": [],
   "source": [
    "class Maze():\n",
    "    def __init__(self, filename):\n",
    "        \n",
    "        # Read file in\n",
    "        with open(filename) as f:\n",
    "            contents = f.read()\n",
    "        \n",
    "        # Validate start and goal\n",
    "        if contents.count(\"A\") != 1:\n",
    "            raise Exception(\"maze must have exactly one start point\")\n",
    "        if contents.count(\"B\") != 1:\n",
    "            raise exception (\"maze must have exactly one goal\")\n",
    "        \n",
    "        # Height and width of maze\n",
    "        contents = contents.splitlines()\n",
    "        self.height = len(contents)\n",
    "        self.width = max(len(line) for line in contents)\n",
    "        \n",
    "        # keep track of walls\n",
    "        self.walls = []\n",
    "        for i in range(self.height):\n",
    "            row = []\n",
    "            for j in range(self.width):\n",
    "                try:\n",
    "                    if contents["
   ]
  }
 ],
 "metadata": {
  "kernelspec": {
   "display_name": "Python 3 (ipykernel)",
   "language": "python",
   "name": "python3"
  },
  "language_info": {
   "codemirror_mode": {
    "name": "ipython",
    "version": 3
   },
   "file_extension": ".py",
   "mimetype": "text/x-python",
   "name": "python",
   "nbconvert_exporter": "python",
   "pygments_lexer": "ipython3",
   "version": "3.9.18"
  }
 },
 "nbformat": 4,
 "nbformat_minor": 5
}
