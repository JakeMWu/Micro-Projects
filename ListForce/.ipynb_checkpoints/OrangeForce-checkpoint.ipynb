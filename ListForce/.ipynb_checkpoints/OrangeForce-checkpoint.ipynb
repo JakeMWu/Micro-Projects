{
 "cells": [
  {
   "cell_type": "markdown",
   "id": "16af2db7-696a-47b6-92a3-05b6fca28491",
   "metadata": {},
   "source": [
    "**Aim**  \n",
    "\n",
    "We want to be able to force an item from a numbered list where the spectator has a completely free choice.  \n",
    "\n",
    "We show the spectator a list, briefly, have them choose any number and the number they've chosen should correspond  \n",
    "to the item we want to force. For instance, if we wanted to force an orange and they said 5 then orange would have to appear 5th on our list. "
   ]
  },
  {
   "cell_type": "code",
   "execution_count": 1,
   "id": "cb202c68-7c87-423e-8027-176a52be2584",
   "metadata": {},
   "outputs": [],
   "source": [
    "item_list = ['grapes', 'banana', 'orange', 'pear', 'star fruit', 'cherries', 'apple', 'grapefruit', 'peaches',\n",
    "            'pineapple', 'plum', 'rhubarb', 'lychees', 'dragon fruit']"
   ]
  },
  {
   "cell_type": "code",
   "execution_count": 2,
   "id": "68ca24b5-f3e8-4c6a-8bdf-832b0c4c05e1",
   "metadata": {},
   "outputs": [
    {
     "name": "stdout",
     "output_type": "stream",
     "text": [
      "1. grapes\n",
      "2. banana\n",
      "3. orange\n",
      "4. pear\n",
      "5. star fruit\n",
      "6. cherries\n",
      "7. apple\n",
      "8. grapefruit\n",
      "9. peaches\n",
      "10. pineapple\n",
      "11. plum\n",
      "12. rhubarb\n",
      "13. lychees\n",
      "14. dragon fruit\n"
     ]
    }
   ],
   "source": [
    "# printing the original order\n",
    "for x in range(len(item_list)):\n",
    "    print(f\"{x+1}. {item_list[x]}\")"
   ]
  },
  {
   "cell_type": "code",
   "execution_count": 3,
   "id": "b8dc3725-eced-440d-964c-0442464b8b11",
   "metadata": {},
   "outputs": [
    {
     "name": "stdin",
     "output_type": "stream",
     "text": [
      "Please choose a number, any number from one to 14:  10\n"
     ]
    },
    {
     "name": "stdout",
     "output_type": "stream",
     "text": [
      "1. grapes\n",
      "2. banana\n",
      "3. pineapple\n",
      "4. pear\n",
      "5. star fruit\n",
      "6. cherries\n",
      "7. apple\n",
      "8. grapefruit\n",
      "9. peaches\n",
      "10. orange\n",
      "11. plum\n",
      "12. rhubarb\n",
      "13. lychees\n",
      "14. dragon fruit\n",
      "\n",
      "orange you glad you picked 10\n"
     ]
    }
   ],
   "source": [
    "# Use some kind of calculator interface for ease of input\n",
    "chosen_number = int(input(\"Please choose a number, any number from one to 14: \"))\n",
    "\n",
    "if chosen_number == 3:\n",
    "    for x in range(len(item_list)):\n",
    "        print(f\"{x+1}. {item_list[x]}\")\n",
    "\n",
    "elif chosen_number < 0 or chosen_number > 14:\n",
    "    print(\"That's larger than the list\")\n",
    "    \n",
    "else: \n",
    "    force = item_list[2]\n",
    "    swap = item_list[chosen_number-1]\n",
    "    item_list[2] = swap\n",
    "    item_list[chosen_number-1] = force\n",
    "    for x in range(len(item_list)):\n",
    "        print(f\"{x+1}. {item_list[x]}\")\n",
    "        \n",
    "print(f\"\\norange you glad you picked {chosen_number}\")"
   ]
  }
 ],
 "metadata": {
  "kernelspec": {
   "display_name": "Python 3 (ipykernel)",
   "language": "python",
   "name": "python3"
  },
  "language_info": {
   "codemirror_mode": {
    "name": "ipython",
    "version": 3
   },
   "file_extension": ".py",
   "mimetype": "text/x-python",
   "name": "python",
   "nbconvert_exporter": "python",
   "pygments_lexer": "ipython3",
   "version": "3.9.18"
  }
 },
 "nbformat": 4,
 "nbformat_minor": 5
}
